{
 "cells": [
  {
   "cell_type": "code",
   "execution_count": 1,
   "metadata": {},
   "outputs": [],
   "source": [
    "import pandas as pd\n",
    "from scipy.stats import pearsonr\n",
    "from itertools import combinations\n",
    "from create_neighbour_edgelists import add_reverse_edges"
   ]
  },
  {
   "cell_type": "code",
   "execution_count": 2,
   "metadata": {},
   "outputs": [],
   "source": [
    "map4 = add_reverse_edges(pd.read_csv('MAP4/MAP4_minhash.csv').drop(columns=['minhash_distance']))\n",
    "smiles = add_reverse_edges(pd.read_csv('../../../Chapter4/data/processed/drug_fingerprint_similarity.csv'))\n",
    "\n",
    "df = pd.merge(map4, smiles, on=['drug1', 'drug2'])"
   ]
  },
  {
   "cell_type": "code",
   "execution_count": 3,
   "metadata": {},
   "outputs": [],
   "source": [
    "def pairwise_corr(df):\n",
    "    out = []\n",
    "    candidate_cols = df.columns[2:]\n",
    "    for m1, m2 in combinations(candidate_cols, 2):\n",
    "        r = pearsonr(df[m1], df[m2])[0]\n",
    "        out.append([m1, m2, r])\n",
    "    return pd.DataFrame(out, columns=['method1', 'method2', 'corr'])"
   ]
  },
  {
   "cell_type": "code",
   "execution_count": 4,
   "metadata": {},
   "outputs": [
    {
     "data": {
      "text/html": [
       "<div>\n",
       "<style scoped>\n",
       "    .dataframe tbody tr th:only-of-type {\n",
       "        vertical-align: middle;\n",
       "    }\n",
       "\n",
       "    .dataframe tbody tr th {\n",
       "        vertical-align: top;\n",
       "    }\n",
       "\n",
       "    .dataframe thead th {\n",
       "        text-align: right;\n",
       "    }\n",
       "</style>\n",
       "<table border=\"1\" class=\"dataframe\">\n",
       "  <thead>\n",
       "    <tr style=\"text-align: right;\">\n",
       "      <th></th>\n",
       "      <th>method1</th>\n",
       "      <th>method2</th>\n",
       "      <th>corr</th>\n",
       "    </tr>\n",
       "  </thead>\n",
       "  <tbody>\n",
       "    <tr>\n",
       "      <th>0</th>\n",
       "      <td>minhash_similarity</td>\n",
       "      <td>fingerprint_similarity</td>\n",
       "      <td>0.31952</td>\n",
       "    </tr>\n",
       "  </tbody>\n",
       "</table>\n",
       "</div>"
      ],
      "text/plain": [
       "              method1                 method2     corr\n",
       "0  minhash_similarity  fingerprint_similarity  0.31952"
      ]
     },
     "execution_count": 4,
     "metadata": {},
     "output_type": "execute_result"
    }
   ],
   "source": [
    "pairwise_corr(df)"
   ]
  },
  {
   "cell_type": "code",
   "execution_count": 5,
   "metadata": {},
   "outputs": [
    {
     "data": {
      "text/html": [
       "<div>\n",
       "<style scoped>\n",
       "    .dataframe tbody tr th:only-of-type {\n",
       "        vertical-align: middle;\n",
       "    }\n",
       "\n",
       "    .dataframe tbody tr th {\n",
       "        vertical-align: top;\n",
       "    }\n",
       "\n",
       "    .dataframe thead th {\n",
       "        text-align: right;\n",
       "    }\n",
       "</style>\n",
       "<table border=\"1\" class=\"dataframe\">\n",
       "  <thead>\n",
       "    <tr style=\"text-align: right;\">\n",
       "      <th></th>\n",
       "      <th>method1</th>\n",
       "      <th>method2</th>\n",
       "      <th>corr</th>\n",
       "    </tr>\n",
       "  </thead>\n",
       "  <tbody>\n",
       "    <tr>\n",
       "      <th>0</th>\n",
       "      <td>weight</td>\n",
       "      <td>normalised_weight</td>\n",
       "      <td>0.763238</td>\n",
       "    </tr>\n",
       "    <tr>\n",
       "      <th>1</th>\n",
       "      <td>weight</td>\n",
       "      <td>minhash_similarity</td>\n",
       "      <td>0.093612</td>\n",
       "    </tr>\n",
       "    <tr>\n",
       "      <th>2</th>\n",
       "      <td>weight</td>\n",
       "      <td>fingerprint_similarity</td>\n",
       "      <td>0.064115</td>\n",
       "    </tr>\n",
       "    <tr>\n",
       "      <th>3</th>\n",
       "      <td>normalised_weight</td>\n",
       "      <td>minhash_similarity</td>\n",
       "      <td>0.099262</td>\n",
       "    </tr>\n",
       "    <tr>\n",
       "      <th>4</th>\n",
       "      <td>normalised_weight</td>\n",
       "      <td>fingerprint_similarity</td>\n",
       "      <td>0.008585</td>\n",
       "    </tr>\n",
       "    <tr>\n",
       "      <th>5</th>\n",
       "      <td>minhash_similarity</td>\n",
       "      <td>fingerprint_similarity</td>\n",
       "      <td>0.413860</td>\n",
       "    </tr>\n",
       "  </tbody>\n",
       "</table>\n",
       "</div>"
      ],
      "text/plain": [
       "              method1                 method2      corr\n",
       "0              weight       normalised_weight  0.763238\n",
       "1              weight      minhash_similarity  0.093612\n",
       "2              weight  fingerprint_similarity  0.064115\n",
       "3   normalised_weight      minhash_similarity  0.099262\n",
       "4   normalised_weight  fingerprint_similarity  0.008585\n",
       "5  minhash_similarity  fingerprint_similarity  0.413860"
      ]
     },
     "execution_count": 5,
     "metadata": {},
     "output_type": "execute_result"
    }
   ],
   "source": [
    "# Also check corr for cases where we have drug-gene projection edges\n",
    "bi_proj = pd.read_csv('../../../Chapter4/data/processed/drug_projection_edges.csv')\n",
    "\n",
    "pairwise_corr(bi_proj.merge(df, on=['drug1', 'drug2']))"
   ]
  }
 ],
 "metadata": {
  "kernelspec": {
   "display_name": "libkge",
   "language": "python",
   "name": "python3"
  },
  "language_info": {
   "codemirror_mode": {
    "name": "ipython",
    "version": 3
   },
   "file_extension": ".py",
   "mimetype": "text/x-python",
   "name": "python",
   "nbconvert_exporter": "python",
   "pygments_lexer": "ipython3",
   "version": "3.8.18"
  }
 },
 "nbformat": 4,
 "nbformat_minor": 2
}
