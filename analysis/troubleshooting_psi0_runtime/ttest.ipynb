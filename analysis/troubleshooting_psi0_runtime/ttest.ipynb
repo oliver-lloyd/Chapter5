{
 "cells": [
  {
   "cell_type": "code",
   "execution_count": 29,
   "metadata": {},
   "outputs": [],
   "source": [
    "from pathlib import Path\n",
    "from scipy.stats import ttest_ind\n",
    "import numpy as np\n",
    "import pandas as pd"
   ]
  },
  {
   "cell_type": "code",
   "execution_count": 24,
   "metadata": {},
   "outputs": [],
   "source": [
    "path = Path('experiments')\n",
    "\n",
    "zeros = []\n",
    "nonzeros = []\n",
    "for f in path.rglob('epoch_runtimes.csv'):\n",
    "    df = pd.read_csv(f)\n",
    "    med = df.runtime.median()\n",
    "    if 'nonzero' in str(f):\n",
    "        nonzeros.append(med)\n",
    "    else:\n",
    "        zeros.append(med)"
   ]
  },
  {
   "cell_type": "code",
   "execution_count": 30,
   "metadata": {},
   "outputs": [
    {
     "name": "stdout",
     "output_type": "stream",
     "text": [
      "Zeros mean = 108.34768279194832\n",
      "Nonzeros mean = 108.87802445292473\n"
     ]
    }
   ],
   "source": [
    "print(f'Zeros mean = {np.mean(zeros)}')\n",
    "print(f'Nonzeros mean = {np.mean(nonzeros)}')"
   ]
  },
  {
   "cell_type": "code",
   "execution_count": 28,
   "metadata": {},
   "outputs": [
    {
     "data": {
      "text/plain": [
       "Ttest_indResult(statistic=-10.943892871097761, pvalue=2.625034549960884e-13)"
      ]
     },
     "execution_count": 28,
     "metadata": {},
     "output_type": "execute_result"
    }
   ],
   "source": [
    "ttest_ind(zeros, nonzeros)"
   ]
  }
 ],
 "metadata": {
  "kernelspec": {
   "display_name": "libkge",
   "language": "python",
   "name": "python3"
  },
  "language_info": {
   "codemirror_mode": {
    "name": "ipython",
    "version": 3
   },
   "file_extension": ".py",
   "mimetype": "text/x-python",
   "name": "python",
   "nbconvert_exporter": "python",
   "pygments_lexer": "ipython3",
   "version": "3.8.18"
  }
 },
 "nbformat": 4,
 "nbformat_minor": 2
}
