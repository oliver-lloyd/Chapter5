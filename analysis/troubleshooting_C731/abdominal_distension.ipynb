{
 "cells": [
  {
   "cell_type": "code",
   "execution_count": 4,
   "metadata": {},
   "outputs": [],
   "source": [
    "import pandas as pd\n",
    "from kge.model import KgeModel\n",
    "from kge.util.io import load_checkpoint\n",
    "from dotenv import dotenv_values"
   ]
  },
  {
   "cell_type": "code",
   "execution_count": 37,
   "metadata": {},
   "outputs": [
    {
     "name": "stdout",
     "output_type": "stream",
     "text": [
      "Loading configuration of dataset selfloops from /Users/fu19841/Documents/thesis/kge/data/selfloops ...\n",
      "Found psi value: 0.01\n",
      "Created sparse neighbour adjacency of shape: torch.Size([19734, 19734])\n",
      "Found psi value: 0.01\n",
      "Created sparse neighbour adjacency of shape: torch.Size([19734, 19734])\n"
     ]
    },
    {
     "name": "stderr",
     "output_type": "stream",
     "text": [
      "Warning: Avoided overwrite of already set option dataset.name. Used selfloops instead of /bp1/mrcieu1/users/fu19841/kge/data/selfloops.\n"
     ]
    }
   ],
   "source": [
    "env = dotenv_values()\n",
    "libkge_path = env['LIBKGE_PATH']\n",
    "selfloops_data_path = libkge_path + '/data/selfloops'\n",
    "\n",
    "# Create index dict for relation names\n",
    "rel_name_to_id = {}\n",
    "with open(f'{libkge_path}/data/selfloops/relation_ids.del', 'r') as f:\n",
    "    for line in f.readlines():\n",
    "        if line.endswith('\\n'):\n",
    "            line = line[:-1]\n",
    "        rel_id, rel_name = line.split('\\t')\n",
    "        rel_name_to_id[rel_name] = int(rel_id)\n",
    "\n",
    "# Create index dict for entity names\n",
    "ent_name_to_id = {}\n",
    "with open(f'{libkge_path}/data/selfloops/entity_ids.del', 'r') as f:\n",
    "    for line in f.readlines():\n",
    "        if line.endswith('\\n'):\n",
    "            line = line[:-1]\n",
    "        ent_id, ent_name = line.split('\\t')\n",
    "        ent_name_to_id[ent_name] = int(ent_id)\n",
    "\n",
    "# Load embeds\n",
    "checkpoint = load_checkpoint('../3_minimising_training/experiments/20240603-094003-RDK_n10_psi_0.01/checkpoint_00002/checkpoint_00002.pt')\n",
    "embeds = KgeModel.create_from(checkpoint).state_dict()\n",
    "rel_embeds = embeds['_relation_embedder._embeddings.weight']\n",
    "ent_embeds = embeds['_entity_embedder._embeddings.weight']"
   ]
  },
  {
   "cell_type": "code",
   "execution_count": 28,
   "metadata": {},
   "outputs": [
    {
     "name": "stdout",
     "output_type": "stream",
     "text": [
      "torch.Size([256])\n",
      "tensor(0.0374)\n",
      "tensor(0.5251)\n",
      "tensor([-4.6859e-01,  3.0182e-01, -1.3695e-01, -4.4108e-01, -3.5706e-01,\n",
      "        -8.2026e-01, -1.3660e-01,  6.2356e-01,  3.5136e-01, -3.8047e-01,\n",
      "        -1.2287e-02, -1.1036e-01, -3.0345e-01,  4.9830e-02,  1.3788e+00,\n",
      "         1.2056e-01,  4.9325e-01,  7.5324e-01, -4.0527e-01, -4.2192e-02,\n",
      "        -3.5734e-01, -2.4516e-01,  6.5433e-02,  4.0608e-01, -4.4806e-01,\n",
      "         1.3571e-01,  4.9731e-01,  8.7099e-01, -3.6035e-01, -4.2999e-01,\n",
      "         5.9221e-01, -7.6736e-01, -1.9323e-01, -5.3344e-01, -3.9821e-01,\n",
      "        -6.7146e-01,  1.0868e-01,  1.7251e-01,  2.1471e-01,  2.8824e-01,\n",
      "         8.7110e-01, -1.0096e-01,  8.3933e-03,  8.6110e-01, -4.7824e-01,\n",
      "         2.5608e-01,  1.4841e-01, -5.7521e-02,  8.4381e-01, -2.2492e-01,\n",
      "         9.0598e-01, -7.8605e-01, -1.1085e+00,  5.1028e-01,  7.6411e-01,\n",
      "         6.5879e-01, -2.5337e-01,  3.2712e-01,  7.8576e-01,  1.0580e+00,\n",
      "         5.1987e-01, -5.1474e-01, -5.3540e-01,  1.0487e-01, -8.3258e-02,\n",
      "         1.2008e+00,  3.0738e-01,  8.7317e-02,  3.6842e-01, -7.0566e-01,\n",
      "         3.7669e-01,  1.6791e-01,  5.9947e-01,  7.5698e-01, -4.4854e-02,\n",
      "        -2.4987e-01, -7.4337e-02, -8.2627e-02,  7.2801e-01, -9.7393e-01,\n",
      "         6.6018e-01, -8.6361e-02, -9.4487e-04, -2.9170e-01, -3.9483e-01,\n",
      "         3.2197e-01,  7.5583e-01, -2.8077e-01, -1.7051e-01,  5.4965e-01,\n",
      "         4.1173e-01,  4.5405e-01,  9.4329e-01, -4.3300e-01, -1.9315e-01,\n",
      "        -5.9135e-01,  2.3049e-01,  4.1234e-01, -1.2593e-02,  2.1772e-01,\n",
      "        -1.5946e-01, -2.9235e-02, -4.3984e-01,  2.3903e-01, -2.3197e-01,\n",
      "         3.3097e-03,  4.0909e-01,  5.5200e-01, -4.9327e-01, -2.2090e-01,\n",
      "        -1.0736e-01, -4.9722e-01, -5.0894e-01, -1.1441e+00, -5.8320e-01,\n",
      "         1.6845e-01, -2.5125e-01,  6.0738e-01,  5.8830e-01,  2.4387e-01,\n",
      "        -5.0484e-01, -2.9014e-01,  3.3258e-01,  6.2301e-01,  6.3752e-01,\n",
      "        -5.9522e-01, -5.8425e-02,  2.5234e-01, -2.4037e-01,  7.0688e-01,\n",
      "        -3.5212e-01, -4.8412e-01, -3.4011e-01,  3.5130e-01,  3.8051e-01,\n",
      "         4.0312e-01, -5.2049e-02,  3.7122e-02, -1.2931e-01, -1.5045e-01,\n",
      "         4.7328e-01, -4.0669e-01, -3.4585e-01,  2.4450e-01, -1.0786e+00,\n",
      "         1.7246e-01,  1.9765e-01, -6.1798e-01,  3.6229e-02, -8.3823e-01,\n",
      "        -1.8411e+00,  8.8382e-01, -2.7676e-01,  1.4026e-01,  7.8154e-01,\n",
      "         2.6535e-01, -8.5366e-01, -4.4639e-01, -1.9263e-01, -1.0047e+00,\n",
      "        -4.5400e-01,  6.5392e-01, -6.3547e-01, -3.3190e-02,  1.3363e+00,\n",
      "        -2.4918e-01,  1.2952e-01,  5.4847e-02,  5.4338e-01,  1.0660e+00,\n",
      "        -1.7181e+00, -9.1143e-02, -2.5155e-01,  6.6016e-01, -6.0611e-01,\n",
      "         2.7538e-01,  6.5232e-01,  1.9537e-01, -2.1844e-02, -3.6503e-01,\n",
      "         2.9630e-01, -2.4947e-01,  2.1493e-01, -2.8682e-01,  6.3138e-02,\n",
      "         1.0428e+00,  8.9157e-01, -2.5679e-01, -5.8995e-01,  1.2502e-01,\n",
      "         4.3773e-01,  3.5665e-01,  4.8597e-01, -1.5693e-01, -3.6010e-01,\n",
      "         3.1945e-01, -5.2612e-02, -2.0241e-01,  4.7156e-01,  2.5338e-01,\n",
      "         5.3007e-01,  7.3216e-01, -2.4332e-01, -1.4925e-01,  1.3568e+00,\n",
      "         1.4564e+00, -2.1788e-01, -4.1491e-02,  2.9218e-01,  1.6500e-01,\n",
      "         3.2275e-01,  1.1087e-01, -3.5034e-01, -2.1042e-01,  2.9645e-01,\n",
      "        -7.7645e-01,  6.1249e-02,  2.5607e-01, -5.2312e-01, -3.9316e-01,\n",
      "        -3.7604e-01, -2.0162e-02, -1.4886e-01, -5.0446e-01, -7.0117e-02,\n",
      "         1.3541e-01,  5.5697e-01,  5.0125e-02,  2.1087e-01, -3.6571e-01,\n",
      "        -3.8478e-02, -3.0377e-01, -7.1153e-01,  7.4206e-01,  9.1370e-01,\n",
      "        -5.0761e-01, -1.9463e-01, -2.6715e-01,  2.9951e-01, -4.8456e-01,\n",
      "        -1.0654e+00,  3.0282e-02,  6.1905e-03, -6.0040e-02, -4.7816e-01,\n",
      "         7.5218e-01,  4.5955e-01,  2.5945e-01,  3.0813e-01, -8.1932e-01,\n",
      "         3.9520e-01,  4.9006e-01,  4.9686e-01, -1.6282e-01,  5.4068e-02,\n",
      "         5.4680e-01])\n"
     ]
    }
   ],
   "source": [
    "abdominal_rel = 'C0000731'\n",
    "abdominal_id = rel_name_to_id[abdominal_rel]\n",
    "abdominal_vec = rel_embeds[abdominal_id]\n",
    "\n",
    "print(abdominal_vec.shape)\n",
    "print(abdominal_vec.mean())\n",
    "print(abdominal_vec.std())\n",
    "print(abdominal_vec)"
   ]
  },
  {
   "cell_type": "code",
   "execution_count": 55,
   "metadata": {},
   "outputs": [
    {
     "name": "stdout",
     "output_type": "stream",
     "text": [
      "433\n"
     ]
    },
    {
     "data": {
      "text/html": [
       "<div>\n",
       "<style scoped>\n",
       "    .dataframe tbody tr th:only-of-type {\n",
       "        vertical-align: middle;\n",
       "    }\n",
       "\n",
       "    .dataframe tbody tr th {\n",
       "        vertical-align: top;\n",
       "    }\n",
       "\n",
       "    .dataframe thead th {\n",
       "        text-align: right;\n",
       "    }\n",
       "</style>\n",
       "<table border=\"1\" class=\"dataframe\">\n",
       "  <thead>\n",
       "    <tr style=\"text-align: right;\">\n",
       "      <th></th>\n",
       "      <th>h</th>\n",
       "      <th>r</th>\n",
       "      <th>t</th>\n",
       "    </tr>\n",
       "  </thead>\n",
       "  <tbody>\n",
       "    <tr>\n",
       "      <th>0</th>\n",
       "      <td>CID000003937</td>\n",
       "      <td>C0000731</td>\n",
       "      <td>CID006398970</td>\n",
       "    </tr>\n",
       "    <tr>\n",
       "      <th>1</th>\n",
       "      <td>CID000004829</td>\n",
       "      <td>C0000731</td>\n",
       "      <td>CID000056959</td>\n",
       "    </tr>\n",
       "    <tr>\n",
       "      <th>2</th>\n",
       "      <td>CID000005291</td>\n",
       "      <td>C0000731</td>\n",
       "      <td>CID000060831</td>\n",
       "    </tr>\n",
       "    <tr>\n",
       "      <th>3</th>\n",
       "      <td>CID000001971</td>\n",
       "      <td>C0000731</td>\n",
       "      <td>CID000003883</td>\n",
       "    </tr>\n",
       "    <tr>\n",
       "      <th>4</th>\n",
       "      <td>CID000004900</td>\n",
       "      <td>C0000731</td>\n",
       "      <td>CID000060835</td>\n",
       "    </tr>\n",
       "    <tr>\n",
       "      <th>...</th>\n",
       "      <td>...</td>\n",
       "      <td>...</td>\n",
       "      <td>...</td>\n",
       "    </tr>\n",
       "    <tr>\n",
       "      <th>1232</th>\n",
       "      <td>CID000003386</td>\n",
       "      <td>C0000731</td>\n",
       "      <td>CID000005402</td>\n",
       "    </tr>\n",
       "    <tr>\n",
       "      <th>1233</th>\n",
       "      <td>CID000004679</td>\n",
       "      <td>C0000731</td>\n",
       "      <td>CID000060871</td>\n",
       "    </tr>\n",
       "    <tr>\n",
       "      <th>1234</th>\n",
       "      <td>CID000002554</td>\n",
       "      <td>C0000731</td>\n",
       "      <td>CID000004927</td>\n",
       "    </tr>\n",
       "    <tr>\n",
       "      <th>1235</th>\n",
       "      <td>CID000005029</td>\n",
       "      <td>C0000731</td>\n",
       "      <td>CID000060852</td>\n",
       "    </tr>\n",
       "    <tr>\n",
       "      <th>1236</th>\n",
       "      <td>CID000003403</td>\n",
       "      <td>C0000731</td>\n",
       "      <td>CID005311297</td>\n",
       "    </tr>\n",
       "  </tbody>\n",
       "</table>\n",
       "<p>1237 rows × 3 columns</p>\n",
       "</div>"
      ],
      "text/plain": [
       "                 h         r             t\n",
       "0     CID000003937  C0000731  CID006398970\n",
       "1     CID000004829  C0000731  CID000056959\n",
       "2     CID000005291  C0000731  CID000060831\n",
       "3     CID000001971  C0000731  CID000003883\n",
       "4     CID000004900  C0000731  CID000060835\n",
       "...            ...       ...           ...\n",
       "1232  CID000003386  C0000731  CID000005402\n",
       "1233  CID000004679  C0000731  CID000060871\n",
       "1234  CID000002554  C0000731  CID000004927\n",
       "1235  CID000005029  C0000731  CID000060852\n",
       "1236  CID000003403  C0000731  CID005311297\n",
       "\n",
       "[1237 rows x 3 columns]"
      ]
     },
     "execution_count": 55,
     "metadata": {},
     "output_type": "execute_result"
    }
   ],
   "source": [
    "# Load polypharmacy holdout\n",
    "holdout = pd.read_csv('../../data/selfloops/holdout.tsv', sep='\\t', header=None)\n",
    "holdout.columns = ['h', 'r', 't']\n",
    "holdout.query(f'r == \"{abdominal_rel}\"', inplace=True)\n",
    "holdout_nodes = set(holdout.h.unique()).union(set(holdout.t.unique()))\n",
    "print(len(holdout_nodes))\n",
    "holdout"
   ]
  },
  {
   "cell_type": "code",
   "execution_count": 54,
   "metadata": {},
   "outputs": [
    {
     "name": "stdout",
     "output_type": "stream",
     "text": [
      "632\n"
     ]
    },
    {
     "data": {
      "text/html": [
       "<div>\n",
       "<style scoped>\n",
       "    .dataframe tbody tr th:only-of-type {\n",
       "        vertical-align: middle;\n",
       "    }\n",
       "\n",
       "    .dataframe tbody tr th {\n",
       "        vertical-align: top;\n",
       "    }\n",
       "\n",
       "    .dataframe thead th {\n",
       "        text-align: right;\n",
       "    }\n",
       "</style>\n",
       "<table border=\"1\" class=\"dataframe\">\n",
       "  <thead>\n",
       "    <tr style=\"text-align: right;\">\n",
       "      <th></th>\n",
       "      <th>h</th>\n",
       "      <th>r</th>\n",
       "      <th>t</th>\n",
       "    </tr>\n",
       "  </thead>\n",
       "  <tbody>\n",
       "    <tr>\n",
       "      <th>0</th>\n",
       "      <td>CID000077993</td>\n",
       "      <td>C0000731</td>\n",
       "      <td>CID000004594</td>\n",
       "    </tr>\n",
       "    <tr>\n",
       "      <th>1</th>\n",
       "      <td>CID000002522</td>\n",
       "      <td>C0000731</td>\n",
       "      <td>CID000005878</td>\n",
       "    </tr>\n",
       "    <tr>\n",
       "      <th>2</th>\n",
       "      <td>CID000163742</td>\n",
       "      <td>C0000731</td>\n",
       "      <td>CID000125889</td>\n",
       "    </tr>\n",
       "    <tr>\n",
       "      <th>3</th>\n",
       "      <td>CID000004411</td>\n",
       "      <td>C0000731</td>\n",
       "      <td>CID000003825</td>\n",
       "    </tr>\n",
       "    <tr>\n",
       "      <th>4</th>\n",
       "      <td>CID000002512</td>\n",
       "      <td>C0000731</td>\n",
       "      <td>CID000005372</td>\n",
       "    </tr>\n",
       "    <tr>\n",
       "      <th>...</th>\n",
       "      <td>...</td>\n",
       "      <td>...</td>\n",
       "      <td>...</td>\n",
       "    </tr>\n",
       "    <tr>\n",
       "      <th>1232</th>\n",
       "      <td>CID000056339</td>\n",
       "      <td>C0000731</td>\n",
       "      <td>CID000001983</td>\n",
       "    </tr>\n",
       "    <tr>\n",
       "      <th>1233</th>\n",
       "      <td>CID001349907</td>\n",
       "      <td>C0000731</td>\n",
       "      <td>CID000005650</td>\n",
       "    </tr>\n",
       "    <tr>\n",
       "      <th>1234</th>\n",
       "      <td>CID000060787</td>\n",
       "      <td>C0000731</td>\n",
       "      <td>CID000002610</td>\n",
       "    </tr>\n",
       "    <tr>\n",
       "      <th>1235</th>\n",
       "      <td>CID000002656</td>\n",
       "      <td>C0000731</td>\n",
       "      <td>CID000034312</td>\n",
       "    </tr>\n",
       "    <tr>\n",
       "      <th>1236</th>\n",
       "      <td>CID000002462</td>\n",
       "      <td>C0000731</td>\n",
       "      <td>CID000000450</td>\n",
       "    </tr>\n",
       "  </tbody>\n",
       "</table>\n",
       "<p>1237 rows × 3 columns</p>\n",
       "</div>"
      ],
      "text/plain": [
       "                 h         r             t\n",
       "0     CID000077993  C0000731  CID000004594\n",
       "1     CID000002522  C0000731  CID000005878\n",
       "2     CID000163742  C0000731  CID000125889\n",
       "3     CID000004411  C0000731  CID000003825\n",
       "4     CID000002512  C0000731  CID000005372\n",
       "...            ...       ...           ...\n",
       "1232  CID000056339  C0000731  CID000001983\n",
       "1233  CID001349907  C0000731  CID000005650\n",
       "1234  CID000060787  C0000731  CID000002610\n",
       "1235  CID000002656  C0000731  CID000034312\n",
       "1236  CID000002462  C0000731  CID000000450\n",
       "\n",
       "[1237 rows x 3 columns]"
      ]
     },
     "execution_count": 54,
     "metadata": {},
     "output_type": "execute_result"
    }
   ],
   "source": [
    "# Load false holdout edges\n",
    "fake_holdout_path = env['THESIS_PATH'] + '/Chapter3/analysis/assessment/false_edges'\n",
    "false_holdout = pd.read_csv(f'{fake_holdout_path}/{abdominal_rel}.tsv', header=None, sep='\\t')\n",
    "false_holdout.columns = ['h', 'r', 't']\n",
    "false_holdout_nodes = set(false_holdout.h.unique()).union(set(false_holdout.t.unique()))\n",
    "print(len(false_holdout_nodes))\n",
    "false_holdout"
   ]
  },
  {
   "cell_type": "markdown",
   "metadata": {},
   "source": [
    "# 1. Check for overlapping edges"
   ]
  },
  {
   "cell_type": "code",
   "execution_count": 56,
   "metadata": {},
   "outputs": [
    {
     "name": "stdout",
     "output_type": "stream",
     "text": [
      "After dropping duplicates, lost 0 edges\n"
     ]
    }
   ],
   "source": [
    "merged_holdout = pd.concat([holdout, false_holdout])\n",
    "start_len = len(merged_holdout)\n",
    "merged_holdout.drop_duplicates(inplace=True)\n",
    "print(f'After dropping duplicates, lost {start_len - len(merged_holdout)} edges')"
   ]
  },
  {
   "cell_type": "markdown",
   "metadata": {},
   "source": [
    "# 2. Check scores being produced"
   ]
  },
  {
   "cell_type": "code",
   "execution_count": 70,
   "metadata": {},
   "outputs": [],
   "source": [
    "from kge.model.simple import SimplEScorer\n",
    "from sklearn.metrics import roc_auc_score, average_precision_score\n",
    "\n",
    "simple = SimplEScorer(checkpoint['config'], 'selfloops')\n",
    "\n",
    "def score_row(row):\n",
    "    h_vec = ent_embeds[ent_name_to_id[row.h]]\n",
    "    t_vec = ent_embeds[ent_name_to_id[row.t]]\n",
    "    return simple.score_emb(\n",
    "        h_vec.reshape(1, 256), \n",
    "        abdominal_vec.reshape(1, 256), \n",
    "        t_vec.reshape(1, 256), \n",
    "        combine='spo'\n",
    "    ).item()\n",
    "\n",
    "pd.options.mode.chained_assignment = None \n"
   ]
  },
  {
   "cell_type": "code",
   "execution_count": 82,
   "metadata": {},
   "outputs": [
    {
     "name": "stdout",
     "output_type": "stream",
     "text": [
      "                 h         r             t  is_real      score\n",
      "478   CID000002578  C0000731  CID000004594        1    1.69134\n",
      "478   CID000004679  C0000731  CID000054688        0    1.69134\n",
      "1030  CID000003365  C0000731  CID000003929        1   1.563685\n",
      "1030  CID000003403  C0000731  CID000083786        0   1.563685\n",
      "216   CID000003658  C0000731  CID005487301        0   1.467639\n",
      "...            ...       ...           ...      ...        ...\n",
      "314   CID005473385  C0000731  CID000002673        0 -35.707001\n",
      "403   CID000003494  C0000731  CID000005482        0 -36.472023\n",
      "403   CID000003899  C0000731  CID000004829        1 -36.472023\n",
      "540   CID000002675  C0000731  CID000002232        0 -41.089203\n",
      "540   CID000002088  C0000731  CID000003148        1 -41.089203\n",
      "\n",
      "[2474 rows x 5 columns]\n",
      "AUPRC =  0.49999999999999994\n"
     ]
    }
   ],
   "source": [
    "holdout['is_real'] = 1\n",
    "false_holdout['is_real'] = 0\n",
    "merged_holdout = pd.concat([holdout, false_holdout])# PROBLEM IS HERE, NEED TO RESET INDEX OR GET DOUBLE INDICES\n",
    "merged_holdout['score'] = None\n",
    "for i, row in merged_holdout.iterrows():\n",
    "    merged_holdout['score'].loc[i] = score_row(row)\n",
    "\n",
    "merged_holdout.sort_values('score', ascending=False, inplace=True)\n",
    "merged_holdout.to_csv('C731_psi_1e-2_epoch2.csv', index=False)\n",
    "print(merged_holdout)\n",
    "\n",
    "labels = merged_holdout.is_real.values\n",
    "preds = merged_holdout['score'].values\n",
    "prc = average_precision_score(labels, preds)\n",
    "\n",
    "print('AUPRC = ', prc)"
   ]
  },
  {
   "cell_type": "markdown",
   "metadata": {},
   "source": [
    "# Now repeat the exact same code, but reset the index after merging:"
   ]
  },
  {
   "cell_type": "code",
   "execution_count": 83,
   "metadata": {},
   "outputs": [
    {
     "name": "stdout",
     "output_type": "stream",
     "text": [
      "                 h         r             t  is_real      score\n",
      "306   CID000003419  C0000731  CID000005090        1   2.725994\n",
      "612   CID000003365  C0000731  CID000005379        1   2.385819\n",
      "85    CID000003957  C0000731  CID000004635        1   2.365933\n",
      "392   CID000002666  C0000731  CID000005203        1   2.356106\n",
      "919   CID000002083  C0000731  CID000005523        1   2.352815\n",
      "...            ...       ...           ...      ...        ...\n",
      "1668  CID000005482  C0000731  CID000004893        0 -32.934185\n",
      "2332  CID000051263  C0000731  CID003086258        0 -33.108044\n",
      "1551  CID005473385  C0000731  CID000002673        0 -35.707001\n",
      "1640  CID000003494  C0000731  CID000005482        0 -36.472023\n",
      "1777  CID000002675  C0000731  CID000002232        0 -41.089203\n",
      "\n",
      "[2474 rows x 5 columns]\n",
      "AUPRC =  0.9580013310271165\n"
     ]
    }
   ],
   "source": [
    "holdout['is_real'] = 1\n",
    "false_holdout['is_real'] = 0\n",
    "merged_holdout = pd.concat([holdout, false_holdout]).reset_index(drop=True)# PROBLEM IS HERE, NEED TO RESET INDEX OR GET DOUBLE INDICES\n",
    "merged_holdout['score'] = None\n",
    "for i, row in merged_holdout.iterrows():\n",
    "    merged_holdout['score'].loc[i] = score_row(row)\n",
    "\n",
    "merged_holdout.sort_values('score', ascending=False, inplace=True)\n",
    "merged_holdout.to_csv('C731_psi_1e-2_epoch2_fixed.csv', index=False)\n",
    "print(merged_holdout)\n",
    "\n",
    "labels = merged_holdout.is_real.values\n",
    "preds = merged_holdout['score'].values\n",
    "prc = average_precision_score(labels, preds)\n",
    "\n",
    "print('AUPRC = ', prc)"
   ]
  }
 ],
 "metadata": {
  "kernelspec": {
   "display_name": "libkge",
   "language": "python",
   "name": "python3"
  },
  "language_info": {
   "codemirror_mode": {
    "name": "ipython",
    "version": 3
   },
   "file_extension": ".py",
   "mimetype": "text/x-python",
   "name": "python",
   "nbconvert_exporter": "python",
   "pygments_lexer": "ipython3",
   "version": "3.8.18"
  }
 },
 "nbformat": 4,
 "nbformat_minor": 2
}
